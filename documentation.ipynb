{
 "cells": [
  {
   "cell_type": "markdown",
   "id": "efd5eee5-50bb-479d-80e6-26f14f148a1a",
   "metadata": {},
   "source": [
    "# Purpose and Explanation of Each File"
   ]
  },
  {
   "cell_type": "markdown",
   "id": "d26e85d8-1438-4b33-b711-367e30653dda",
   "metadata": {},
   "source": [
    "## ```app.py```"
   ]
  },
  {
   "cell_type": "markdown",
   "id": "469b4e5a-e2bf-4451-a282-3731355837e5",
   "metadata": {},
   "source": [
    "This file sets up and runs the application in the browser, as well as facilitates the process of outputting the resulting map based on user input."
   ]
  },
  {
   "cell_type": "markdown",
   "id": "6c826628-5198-4c93-a277-c99e0fb6a557",
   "metadata": {},
   "source": [
    "## ```handler.py```"
   ]
  },
  {
   "cell_type": "markdown",
   "id": "2acf11a0-39d8-469e-9452-3df5b6370d80",
   "metadata": {},
   "source": [
    "This file is responsible for initiatiing the map and the form on the page, as well as handling the intake of user responses and inputs. In cases where the user fails to fill out all the fields or if the dataset submitted by the user is not properly formatted CSV file, the form will error, and the map will not run."
   ]
  },
  {
   "cell_type": "markdown",
   "id": "a885c9a1-dcbd-4e56-a6c5-893517fdf4ac",
   "metadata": {},
   "source": [
    "## ```visualizer.py```"
   ]
  },
  {
   "cell_type": "markdown",
   "id": "01bd880f-b017-4540-890b-60b24a515ea3",
   "metadata": {},
   "source": [
    "This code in this file cleans the Geotracker dataset, joins that dataset with an income dataset, and then creates the resulting map with columns representing chemical concentration and colors of the map representing average household income. In cases where the data inputted by the user is not in the dataset, the form will error, and the map will fail to appear."
   ]
  },
  {
   "cell_type": "markdown",
   "id": "f8ecdd95-897d-422d-a1e2-7b65342be64c",
   "metadata": {},
   "source": [
    "## ```logger.py```"
   ]
  },
  {
   "cell_type": "markdown",
   "id": "7926b639-8aa9-4ea7-bf55-9cae5924aa30",
   "metadata": {},
   "source": [
    "This file is responsible for creating a logger that keeps track of errors and other information as the code runs its course. Use this in cases of debugging where the web application does not run, and the files need to be pulled and run locally."
   ]
  },
  {
   "cell_type": "markdown",
   "id": "5a9a3104-8f87-4caf-bc9d-8ed5bdeb3be2",
   "metadata": {},
   "source": [
    "## Running the App On Browser"
   ]
  },
  {
   "cell_type": "markdown",
   "id": "ee075264-4d3c-4abc-a7a2-1a78b7e50be1",
   "metadata": {},
   "source": [
    "You can access the app through web browser via https://epa-saas-pfas-analysis.streamlit.app"
   ]
  },
  {
   "cell_type": "markdown",
   "id": "588d8b48-ac73-4652-ac1c-660ee056d847",
   "metadata": {},
   "source": [
    "## Debugging or Running the App Locally"
   ]
  },
  {
   "cell_type": "markdown",
   "id": "7843a437-1f40-419a-a222-3fc7f0cb4f8d",
   "metadata": {},
   "source": [
    "There may be instances where the app fails to run due to the aforementioned errors. In cases where you would like to edit the files and run the app locally via:"
   ]
  },
  {
   "cell_type": "markdown",
   "id": "1a8930df-bf4f-4cec-ab84-5eccdb5e956b",
   "metadata": {},
   "source": [
    "```\n",
    "git clone https://github.com/jess-8/epa_saas.git\n",
    "pip install -r requirements.txt\n",
    "```"
   ]
  },
  {
   "cell_type": "markdown",
   "id": "34a8e2d7-7c2b-4f8c-8cb9-951d18b67253",
   "metadata": {},
   "source": [
    "To run the app locally, in the terminal, run the command"
   ]
  },
  {
   "cell_type": "markdown",
   "id": "b4918800-2586-45ac-95dc-b221dfe8d2bd",
   "metadata": {},
   "source": [
    "`streamlit run app.py`"
   ]
  }
 ],
 "metadata": {
  "kernelspec": {
   "display_name": "Python 3 (ipykernel)",
   "language": "python",
   "name": "python3"
  },
  "language_info": {
   "codemirror_mode": {
    "name": "ipython",
    "version": 3
   },
   "file_extension": ".py",
   "mimetype": "text/x-python",
   "name": "python",
   "nbconvert_exporter": "python",
   "pygments_lexer": "ipython3",
   "version": "3.9.13"
  }
 },
 "nbformat": 4,
 "nbformat_minor": 5
}
